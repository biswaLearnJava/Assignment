{
 "cells": [
  {
   "cell_type": "code",
   "execution_count": 24,
   "metadata": {},
   "outputs": [
    {
     "data": {
      "text/plain": [
       "24"
      ]
     },
     "execution_count": 24,
     "metadata": {},
     "output_type": "execute_result"
    }
   ],
   "source": [
    "#Task1\n",
    "#1.1 : creating my own reduce function\n",
    "def myreduce(program, providedList):\n",
    "    for i in range(len(providedList)-1):\n",
    "        if i == 0:\n",
    "            value = program(providedList[i], providedList[i+1])\n",
    "        else:\n",
    "            value = program(value, providedList[i+1])\n",
    "    return value\n",
    "\n",
    "def do_sum(a,b):\n",
    "    return a*b\n",
    "\n",
    "myList = [1,2,3,4]\n",
    "myreduce(do_sum, myList)"
   ]
  },
  {
   "cell_type": "code",
   "execution_count": 25,
   "metadata": {},
   "outputs": [
    {
     "data": {
      "text/plain": [
       "[2, 4, 6, 8, 10]"
      ]
     },
     "execution_count": 25,
     "metadata": {},
     "output_type": "execute_result"
    }
   ],
   "source": [
    "#1.2 : myown filter() function\n",
    "\n",
    "def even_rec(num):\n",
    "    if num%2 == 0:\n",
    "        return True\n",
    "    \n",
    "newlist = [1,2,3,4,5,6,7,8,9,10]\n",
    "\n",
    "def myfilter(program, thelist):\n",
    "    val = list()\n",
    "    for i in range(len(thelist)):\n",
    "        if program(thelist[i]):\n",
    "            val.append(thelist[i])\n",
    "    return val\n",
    "\n",
    "values = list(myfilter(even_rec, newlist))\n",
    "values"
   ]
  },
  {
   "cell_type": "code",
   "execution_count": 26,
   "metadata": {},
   "outputs": [
    {
     "data": {
      "text/plain": [
       "['A', 'C', 'A', 'D', 'G', 'I', 'L', 'D']"
      ]
     },
     "execution_count": 26,
     "metadata": {},
     "output_type": "execute_result"
    }
   ],
   "source": [
    "#2 : List comprehension\n",
    "#a)\n",
    "l = 'ACADGILD'\n",
    "l1 = [i for i in l]\n",
    "l1"
   ]
  },
  {
   "cell_type": "code",
   "execution_count": 27,
   "metadata": {},
   "outputs": [
    {
     "data": {
      "text/plain": [
       "['x', 'xx', 'xxx', 'xxxx', 'y', 'yy', 'yyy', 'yyyy', 'z', 'zz', 'zzz', 'zzzz']"
      ]
     },
     "execution_count": 27,
     "metadata": {},
     "output_type": "execute_result"
    }
   ],
   "source": [
    "#b)\n",
    "l2 = ['x','y','z']\n",
    "newlist2 = [i*j for i in l2 for j in range(1,5)]\n",
    "newlist2"
   ]
  },
  {
   "cell_type": "code",
   "execution_count": 28,
   "metadata": {},
   "outputs": [
    {
     "data": {
      "text/plain": [
       "['x', 'y', 'z', 'xx', 'yy', 'zz', 'xxx', 'yyy', 'zzz', 'xxxx', 'yyyy', 'zzzz']"
      ]
     },
     "execution_count": 28,
     "metadata": {},
     "output_type": "execute_result"
    }
   ],
   "source": [
    "#c)\n",
    "l2 = ['x','y','z']\n",
    "newlist2 = [i*j for i in range(1,5) for j in l2]\n",
    "newlist2"
   ]
  },
  {
   "cell_type": "code",
   "execution_count": 29,
   "metadata": {},
   "outputs": [
    {
     "data": {
      "text/plain": [
       "[[2], [3], [4], [3], [4], [5], [4], [5], [6]]"
      ]
     },
     "execution_count": 29,
     "metadata": {},
     "output_type": "execute_result"
    }
   ],
   "source": [
    "#d)\n",
    "newlist3 = [[i+j] for i in range(2,5) for j in range(0,3)]\n",
    "newlist3"
   ]
  },
  {
   "cell_type": "code",
   "execution_count": 30,
   "metadata": {},
   "outputs": [
    {
     "data": {
      "text/plain": [
       "[[2, 3, 4, 5], [3, 4, 5, 6], [4, 5, 6, 7], [5, 6, 7, 8]]"
      ]
     },
     "execution_count": 30,
     "metadata": {},
     "output_type": "execute_result"
    }
   ],
   "source": [
    "#e)\n",
    "newlist4 = [[i for i in range(j,j+4)] for j in range(2,6) ]\n",
    "newlist4"
   ]
  },
  {
   "cell_type": "code",
   "execution_count": 31,
   "metadata": {},
   "outputs": [
    {
     "data": {
      "text/plain": [
       "[(1, 1), (2, 1), (3, 1), (1, 2), (2, 2), (3, 2), (1, 3), (2, 3), (3, 3)]"
      ]
     },
     "execution_count": 31,
     "metadata": {},
     "output_type": "execute_result"
    }
   ],
   "source": [
    "#f)\n",
    "newlist5 = [(j,i) for i in range(1,4) for j in range(1,4)]\n",
    "newlist5"
   ]
  },
  {
   "cell_type": "code",
   "execution_count": 3,
   "metadata": {},
   "outputs": [
    {
     "name": "stdout",
     "output_type": "stream",
     "text": [
      "enter the number of words: 4\n",
      "enter the word: aaaaaaa\n",
      "enter the word: bbbbbbbbbbbbb\n",
      "enter the word: cccccccccccccccccccccccc\n",
      "enter the word: ddddddddddddddddddddddddddddddddd\n",
      "longest word is ddddddddddddddddddddddddddddddddd\n"
     ]
    }
   ],
   "source": [
    "#3: find the longest word in a given list from user\n",
    "def longestWord():\n",
    "    count = int(input(\"enter the number of words: \"))\n",
    "    wordlist = [input(\"enter the word: \") for i in range(count) ]\n",
    "    for i in range(len(wordlist)-1):\n",
    "        longword = wordlist[i]\n",
    "        if len(longword) < len(wordlist[i+1]):\n",
    "            longword = wordlist[i+1]\n",
    "    print('longest word is ' + longword)\n",
    "\n",
    "longestWord()\n",
    "    \n"
   ]
  },
  {
   "cell_type": "code",
   "execution_count": 4,
   "metadata": {},
   "outputs": [
    {
     "name": "stdout",
     "output_type": "stream",
     "text": [
      "6.0\n"
     ]
    }
   ],
   "source": [
    "# Task2\n",
    "#1.1 : area of a triangle\n",
    "class ClassA:\n",
    "    def __init__(self, sideA, sideB, sideC):\n",
    "        self.sideA = sideA\n",
    "        self.sideB = sideB\n",
    "        self.sideC = sideC\n",
    "\n",
    "class ClassB(ClassA):\n",
    "    def __init__(self, sideA, sideB, sideC):\n",
    "        ClassA.__init__(self, sideA, sideB, sideC)\n",
    "    filter_long_words()\n",
    "triangle1 = ClassB(3,4,5)\n",
    "print(triangle1.calculate_area())"
   ]
  },
  {
   "cell_type": "code",
   "execution_count": 8,
   "metadata": {},
   "outputs": [
    {
     "data": {
      "text/plain": [
       "['test1', 'aaaaaaaa']"
      ]
     },
     "execution_count": 8,
     "metadata": {},
     "output_type": "execute_result"
    }
   ],
   "source": [
    "#1.2: filter_long_words()\n",
    "def filter_long_words(new_list, int_val):\n",
    "    greater_than_int_val_list = [new_list[i] for i in range(len(new_list)) if len(new_list[i]) > int_val]\n",
    "    return greater_than_int_val_list\n",
    "\n",
    "new_list = ['test1', 'aaaaaaaa', 'bbbb', 'ccc', 'd']\n",
    "value = 4\n",
    "filter_long_words(new_list, value)"
   ]
  },
  {
   "cell_type": "code",
   "execution_count": 18,
   "metadata": {},
   "outputs": [
    {
     "name": "stdout",
     "output_type": "stream",
     "text": [
      "[5, 3, 3, 3, 3, 5, 3, 2]\n"
     ]
    }
   ],
   "source": [
    "#2.1\n",
    "def list_to_num(new_list2):\n",
    "    return [len(new_list2[i]) for i in range(len(new_list2))]\n",
    "\n",
    "new_list= ['hello', 'how', 'are', 'you', 'all','doing', 'yes', 'No']\n",
    "print(list_to_num(new_list))   "
   ]
  },
  {
   "cell_type": "code",
   "execution_count": 23,
   "metadata": {},
   "outputs": [
    {
     "data": {
      "text/plain": [
       "False"
      ]
     },
     "execution_count": 23,
     "metadata": {},
     "output_type": "execute_result"
    }
   ],
   "source": [
    "def is_vowel(ch):\n",
    "    if ch.lower() in ['a', 'e', 'i', 'o', 'u']:\n",
    "        return True\n",
    "    return False\n",
    "\n",
    "is_vowel('F')"
   ]
  },
  {
   "cell_type": "code",
   "execution_count": null,
   "metadata": {},
   "outputs": [],
   "source": []
  }
 ],
 "metadata": {
  "kernelspec": {
   "display_name": "Python 3",
   "language": "python",
   "name": "python3"
  },
  "language_info": {
   "codemirror_mode": {
    "name": "ipython",
    "version": 3
   },
   "file_extension": ".py",
   "mimetype": "text/x-python",
   "name": "python",
   "nbconvert_exporter": "python",
   "pygments_lexer": "ipython3",
   "version": "3.7.4"
  }
 },
 "nbformat": 4,
 "nbformat_minor": 2
}
